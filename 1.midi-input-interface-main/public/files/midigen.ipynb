{
 "cells": [
  {
   "cell_type": "code",
   "execution_count": 1,
   "metadata": {},
   "outputs": [
    {
     "name": "stdout",
     "output_type": "stream",
     "text": [
      "pygame 2.1.2 (SDL 2.0.18, Python 3.9.7)\n",
      "Hello from the pygame community. https://www.pygame.org/contribute.html\n"
     ]
    }
   ],
   "source": [
    "import sys\n",
    "import os\n",
    "\n",
    "import pygame as pg\n",
    "import pygame.midi\n",
    "\n",
    "\n",
    "def print_device_info():\n",
    "    pygame.midi.init()\n",
    "    _print_device_info()\n",
    "    pygame.midi.quit()\n",
    "\n",
    "\n",
    "def _print_device_info():\n",
    "    for i in range(pygame.midi.get_count()):\n",
    "        r = pygame.midi.get_device_info(i)\n",
    "        (interf, name, input, output, opened) = r\n",
    "\n",
    "        in_out = \"\"\n",
    "        if input:\n",
    "            in_out = \"(input)\"\n",
    "        if output:\n",
    "            in_out = \"(output)\"\n",
    "\n",
    "        print(\n",
    "            \"%2i: interface :%s:, name :%s:, opened :%s:  %s\"\n",
    "            % (i, interf, name, opened, in_out)\n",
    "        )\n",
    "\n",
    "\n",
    "def input_main(device_id=None):\n",
    "    pg.init()\n",
    "    pg.fastevent.init()\n",
    "    event_get = pg.fastevent.get\n",
    "    event_post = pg.fastevent.post\n",
    "\n",
    "    pygame.midi.init()\n",
    "\n",
    "    _print_device_info()\n",
    "\n",
    "    if device_id is None:\n",
    "        input_id = pygame.midi.get_default_input_id()\n",
    "    else:\n",
    "        input_id = device_id\n",
    "\n",
    "    print(\"using input_id :%s:\" % input_id)\n",
    "    i = pygame.midi.Input(input_id)\n",
    "\n",
    "    pg.display.set_mode((1, 1))\n",
    "\n",
    "    going = True\n",
    "    while going:\n",
    "        events = event_get()\n",
    "        for e in events:\n",
    "            if e.type in [pg.QUIT]:\n",
    "                going = False\n",
    "            if e.type in [pg.KEYDOWN]:\n",
    "                going = False\n",
    "            if e.type in [pygame.midi.MIDIIN]:\n",
    "                print(e)\n",
    "\n",
    "        if i.poll():\n",
    "            midi_events = i.read(10)\n",
    "            # convert them into pygame events.\n",
    "            midi_evs = pygame.midi.midis2events(midi_events, i.device_id)\n",
    "\n",
    "            for m_e in midi_evs:\n",
    "                event_post(m_e)\n",
    "\n",
    "    del i\n",
    "    pygame.midi.quit()"
   ]
  },
  {
   "cell_type": "code",
   "execution_count": 4,
   "metadata": {},
   "outputs": [],
   "source": [
    "from mido import Message, MidiFile, MidiTrack\n",
    "\n",
    "mid = MidiFile()\n",
    "track = MidiTrack()\n",
    "mid.tracks.append(track)\n",
    "\n",
    "track.append(Message('note_on', note=3, velocity=5, time=6603))\n",
    "track.append(Message('note_off', note=3, velocity=0, time=6705))\n",
    "track.append(Message('note_on', note=43, velocity=5, time=7072))\n",
    "track.append(Message('note_off', note=43, velocity=0, time=7156))\n",
    "track.append(Message('note_on', note=43, velocity=5, time=7423))\n",
    "track.append(Message('note_off', note=43, velocity=0, time=7628))\n",
    "track.append(Message('note_on', note=48, velocity=5, time=8055))\n",
    "track.append(Message('note_off', note=48, velocity=0, time=8157))\n",
    "track.append(Message('note_on', note=48, velocity=5, time=8341))\n",
    "track.append(Message('note_off', note=48, velocity=0, time=8429))\n",
    "track.append(Message('note_on', note=48, velocity=5, time=8599))\n",
    "track.append(Message('note_off', note=48, velocity=0, time=8688))\n",
    "\n",
    "mid.save('new_song.mid')"
   ]
  },
  {
   "cell_type": "code",
   "execution_count": null,
   "metadata": {},
   "outputs": [],
   "source": []
  }
 ],
 "metadata": {
  "interpreter": {
   "hash": "31f2aee4e71d21fbe5cf8b01ff0e069b9275f58929596ceb00d14d90e3e16cd6"
  },
  "kernelspec": {
   "display_name": "Python 3.8.9 64-bit",
   "language": "python",
   "name": "python3"
  },
  "language_info": {
   "codemirror_mode": {
    "name": "ipython",
    "version": 3
   },
   "file_extension": ".py",
   "mimetype": "text/x-python",
   "name": "python",
   "nbconvert_exporter": "python",
   "pygments_lexer": "ipython3",
   "version": "3.9.7"
  },
  "orig_nbformat": 4
 },
 "nbformat": 4,
 "nbformat_minor": 2
}
